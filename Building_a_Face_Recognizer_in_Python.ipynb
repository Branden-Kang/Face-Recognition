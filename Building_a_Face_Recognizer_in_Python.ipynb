{
 "cells": [
  {
   "cell_type": "markdown",
   "metadata": {
    "id": "OjY5azyFHZdk"
   },
   "source": [
    "[Reference](https://towardsdatascience.com/building-a-face-recognizer-in-python-7fd6630c6340)"
   ]
  },
  {
   "cell_type": "markdown",
   "metadata": {
    "id": "xmZ_Qgk_5b-E"
   },
   "source": [
    "# Import libraries"
   ]
  },
  {
   "cell_type": "code",
   "execution_count": 1,
   "metadata": {
    "ExecuteTime": {
     "end_time": "2020-09-29T04:46:01.838057Z",
     "start_time": "2020-09-29T04:46:01.821503Z"
    },
    "colab": {
     "base_uri": "https://localhost:8080/",
     "height": 343
    },
    "id": "yvqU8bCU5fvl",
    "outputId": "c6c9e07e-8921-4ff2-e094-91df738c08d9"
   },
   "outputs": [],
   "source": [
    "# Run only one time\n",
    "# !pip install cmake face_recognition opencv-python"
   ]
  },
  {
   "cell_type": "code",
   "execution_count": 2,
   "metadata": {
    "ExecuteTime": {
     "end_time": "2020-09-29T04:46:04.804303Z",
     "start_time": "2020-09-29T04:46:01.846253Z"
    },
    "id": "FQ8gI3XgTnAr"
   },
   "outputs": [],
   "source": [
    "import face_recognition\n",
    "import cv2\n",
    "import numpy as np\n",
    "import os\n",
    "import glob"
   ]
  },
  {
   "cell_type": "code",
   "execution_count": 3,
   "metadata": {
    "ExecuteTime": {
     "end_time": "2020-09-29T04:46:04.972893Z",
     "start_time": "2020-09-29T04:46:04.809259Z"
    }
   },
   "outputs": [
    {
     "name": "stdout",
     "output_type": "stream",
     "text": [
      "/Users/kang/Downloads\r\n"
     ]
    }
   ],
   "source": [
    "!pwd"
   ]
  },
  {
   "cell_type": "code",
   "execution_count": 4,
   "metadata": {
    "ExecuteTime": {
     "end_time": "2020-09-29T04:46:05.007084Z",
     "start_time": "2020-09-29T04:46:04.979935Z"
    },
    "colab": {
     "base_uri": "https://localhost:8080/",
     "height": 37
    },
    "id": "jVsHR8cT6UM6",
    "outputId": "bfcf996a-a277-400a-f4b8-227dd9f41eda"
   },
   "outputs": [
    {
     "data": {
      "text/plain": [
       "'/Users/kang/Downloads'"
      ]
     },
     "execution_count": 4,
     "metadata": {},
     "output_type": "execute_result"
    }
   ],
   "source": [
    "faces_encodings = []\n",
    "faces_names = []\n",
    "cur_direc = os.getcwd()\n",
    "cur_direc"
   ]
  },
  {
   "cell_type": "code",
   "execution_count": 5,
   "metadata": {
    "ExecuteTime": {
     "end_time": "2020-09-29T04:46:05.024660Z",
     "start_time": "2020-09-29T04:46:05.018376Z"
    },
    "id": "t29XfaPS6e1L"
   },
   "outputs": [],
   "source": [
    "path = os.path.join(cur_direc, 'data/faces/')"
   ]
  },
  {
   "cell_type": "code",
   "execution_count": 6,
   "metadata": {
    "ExecuteTime": {
     "end_time": "2020-09-29T04:46:05.047501Z",
     "start_time": "2020-09-29T04:46:05.029999Z"
    },
    "colab": {
     "base_uri": "https://localhost:8080/",
     "height": 37
    },
    "id": "2rghV6S4-gvg",
    "outputId": "97e42872-461d-419c-f9e3-a92a7a5ebb67"
   },
   "outputs": [
    {
     "data": {
      "text/plain": [
       "'/Users/kang/Downloads/data/faces/'"
      ]
     },
     "execution_count": 6,
     "metadata": {},
     "output_type": "execute_result"
    }
   ],
   "source": [
    "path"
   ]
  },
  {
   "cell_type": "code",
   "execution_count": 7,
   "metadata": {
    "ExecuteTime": {
     "end_time": "2020-09-29T04:46:05.093171Z",
     "start_time": "2020-09-29T04:46:05.058363Z"
    },
    "id": "jZlLyRSD69Uz"
   },
   "outputs": [],
   "source": [
    "list_of_files = [f for f in glob.glob(path+'*.jpg')]"
   ]
  },
  {
   "cell_type": "code",
   "execution_count": 8,
   "metadata": {
    "ExecuteTime": {
     "end_time": "2020-09-29T04:46:05.122156Z",
     "start_time": "2020-09-29T04:46:05.111336Z"
    },
    "colab": {
     "base_uri": "https://localhost:8080/",
     "height": 102
    },
    "id": "CwMiVMHh9CrQ",
    "outputId": "720bee8d-8908-466c-8e72-baa79158f900"
   },
   "outputs": [
    {
     "data": {
      "text/plain": [
       "['/Users/kang/Downloads/data/faces/mark-zuckergerg.jpg',\n",
       " '/Users/kang/Downloads/data/faces/jeff-bezos.jpg',\n",
       " '/Users/kang/Downloads/data/faces/elon-musk.jpg',\n",
       " '/Users/kang/Downloads/data/faces/bill-gates.jpg',\n",
       " '/Users/kang/Downloads/data/faces/sundar-pichai.jpg']"
      ]
     },
     "execution_count": 8,
     "metadata": {},
     "output_type": "execute_result"
    }
   ],
   "source": [
    "list_of_files "
   ]
  },
  {
   "cell_type": "code",
   "execution_count": 9,
   "metadata": {
    "ExecuteTime": {
     "end_time": "2020-09-29T04:46:05.179700Z",
     "start_time": "2020-09-29T04:46:05.130957Z"
    },
    "colab": {
     "base_uri": "https://localhost:8080/",
     "height": 34
    },
    "id": "6mUAvsWP84pg",
    "outputId": "7c8b80af-af35-42b2-8ae8-c0d0ed74160f"
   },
   "outputs": [
    {
     "data": {
      "text/plain": [
       "5"
      ]
     },
     "execution_count": 9,
     "metadata": {},
     "output_type": "execute_result"
    }
   ],
   "source": [
    "number_files = len(list_of_files)\n",
    "number_files"
   ]
  },
  {
   "cell_type": "code",
   "execution_count": 10,
   "metadata": {
    "ExecuteTime": {
     "end_time": "2020-09-29T04:46:05.228980Z",
     "start_time": "2020-09-29T04:46:05.186239Z"
    },
    "colab": {
     "base_uri": "https://localhost:8080/",
     "height": 102
    },
    "id": "jQ017AcK86W4",
    "outputId": "639a5887-3e55-44d5-dc42-5325ee384b31"
   },
   "outputs": [
    {
     "data": {
      "text/plain": [
       "['/Users/kang/Downloads/data/faces/mark-zuckergerg.jpg',\n",
       " '/Users/kang/Downloads/data/faces/jeff-bezos.jpg',\n",
       " '/Users/kang/Downloads/data/faces/elon-musk.jpg',\n",
       " '/Users/kang/Downloads/data/faces/bill-gates.jpg',\n",
       " '/Users/kang/Downloads/data/faces/sundar-pichai.jpg']"
      ]
     },
     "execution_count": 10,
     "metadata": {},
     "output_type": "execute_result"
    }
   ],
   "source": [
    "names = list_of_files.copy()\n",
    "names"
   ]
  },
  {
   "cell_type": "code",
   "execution_count": 11,
   "metadata": {
    "ExecuteTime": {
     "end_time": "2020-09-29T04:46:07.581205Z",
     "start_time": "2020-09-29T04:46:05.236541Z"
    },
    "id": "58IL3Vr087p-"
   },
   "outputs": [],
   "source": [
    "for i in range(number_files):\n",
    "    globals()['image_{}'.format(i)] = face_recognition.load_image_file(list_of_files[i])\n",
    "    globals()['image_encoding_{}'.format(i)] = face_recognition.face_encodings(globals()['image_{}'.format(i)])[0]\n",
    "    faces_encodings.append(globals()['image_encoding_{}'.format(i)])\n",
    "    # Create array of known names\n",
    "    names[i] = names[i].replace(cur_direc, \"\")  \n",
    "    faces_names.append(names[i])"
   ]
  },
  {
   "cell_type": "markdown",
   "metadata": {
    "id": "b2Jp19mt_3AS"
   },
   "source": [
    "# Face Recognition"
   ]
  },
  {
   "cell_type": "code",
   "execution_count": 12,
   "metadata": {
    "ExecuteTime": {
     "end_time": "2020-09-29T04:46:07.589112Z",
     "start_time": "2020-09-29T04:46:07.583994Z"
    },
    "id": "a7hU5ZOK_teQ"
   },
   "outputs": [],
   "source": [
    "face_locations = []\n",
    "face_encodings = []\n",
    "face_names = []\n",
    "process_this_frame = True"
   ]
  },
  {
   "cell_type": "code",
   "execution_count": 13,
   "metadata": {
    "ExecuteTime": {
     "end_time": "2020-09-29T04:47:07.322537Z",
     "start_time": "2020-09-29T04:46:07.592550Z"
    },
    "colab": {
     "base_uri": "https://localhost:8080/",
     "height": 300
    },
    "id": "A9BEFBky_6tE",
    "outputId": "c69a9b4e-d11c-4c70-e8e2-ae4a7dd1ab94"
   },
   "outputs": [],
   "source": [
    "video_capture = cv2.VideoCapture(0)\n",
    "\n",
    "while True:\n",
    "    ret, frame = video_capture.read()    \n",
    "    small_frame = cv2.resize(frame, (0, 0), fx=0.25, fy=0.25)    \n",
    "    \n",
    "    rgb_small_frame = small_frame[:, :, ::-1]    \n",
    "    \n",
    "    if process_this_frame:\n",
    "        face_locations = face_recognition.face_locations( rgb_small_frame)\n",
    "        face_encodings = face_recognition.face_encodings( rgb_small_frame, face_locations)        \n",
    "        face_names = []\n",
    "        for face_encoding in face_encodings:\n",
    "            matches = face_recognition.compare_faces (faces_encodings, face_encoding)\n",
    "            name = \"Unknown\"            \n",
    "            face_distances = face_recognition.face_distance( faces_encodings, face_encoding)\n",
    "            best_match_index = np.argmin(face_distances)\n",
    "            if matches[best_match_index]:\n",
    "                name = faces_names[best_match_index]            \n",
    "                \n",
    "            face_names.append(name)\n",
    "    process_this_frame = not process_this_frame\n",
    "\n",
    "    # Display the results\n",
    "    for (top, right, bottom, left), name in zip(face_locations, face_names):\n",
    "        top *= 4\n",
    "        right *= 4\n",
    "        bottom *= 4\n",
    "        left *= 4# Draw a rectangle around the face\n",
    "        cv2.rectangle(frame, (left, top), (right, bottom), (0, 0, 255), 2)# Input text label with a name below the face\n",
    "        cv2.rectangle(frame, (left, bottom - 35), (right, bottom), (0, 0, 255), cv2.FILLED)\n",
    "        font = cv2.FONT_HERSHEY_DUPLEX\n",
    "        cv2.putText(frame, name, (left + 6, bottom - 6), font, 1.0, (255, 255, 255), 1)# Display the resulting image\n",
    "    cv2.imshow('Video', frame)# Hit 'q' on the keyboard to quit!\n",
    "    if cv2.waitKey(1) & 0xFF == ord('q'):\n",
    "        break"
   ]
  },
  {
   "cell_type": "code",
   "execution_count": 14,
   "metadata": {
    "ExecuteTime": {
     "end_time": "2020-09-29T04:47:07.569763Z",
     "start_time": "2020-09-29T04:47:07.324689Z"
    },
    "id": "bkJSsseyAXAZ"
   },
   "outputs": [],
   "source": [
    "video_capture.release()\n",
    "cv2.destroyAllWindows()"
   ]
  }
 ],
 "metadata": {
  "accelerator": "GPU",
  "colab": {
   "name": "Building a Face Recognizer in Python.ipynb",
   "provenance": []
  },
  "hide_input": false,
  "kernelspec": {
   "display_name": "Python 3",
   "language": "python",
   "name": "python3"
  },
  "language_info": {
   "codemirror_mode": {
    "name": "ipython",
    "version": 3
   },
   "file_extension": ".py",
   "mimetype": "text/x-python",
   "name": "python",
   "nbconvert_exporter": "python",
   "pygments_lexer": "ipython3",
   "version": "3.7.3"
  },
  "varInspector": {
   "cols": {
    "lenName": 16,
    "lenType": 16,
    "lenVar": 40
   },
   "kernels_config": {
    "python": {
     "delete_cmd_postfix": "",
     "delete_cmd_prefix": "del ",
     "library": "var_list.py",
     "varRefreshCmd": "print(var_dic_list())"
    },
    "r": {
     "delete_cmd_postfix": ") ",
     "delete_cmd_prefix": "rm(",
     "library": "var_list.r",
     "varRefreshCmd": "cat(var_dic_list()) "
    }
   },
   "types_to_exclude": [
    "module",
    "function",
    "builtin_function_or_method",
    "instance",
    "_Feature"
   ],
   "window_display": false
  }
 },
 "nbformat": 4,
 "nbformat_minor": 1
}
